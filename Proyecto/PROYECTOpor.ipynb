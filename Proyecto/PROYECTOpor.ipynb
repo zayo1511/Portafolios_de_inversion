{
 "cells": [
  {
   "cell_type": "markdown",
   "id": "7b10165e",
   "metadata": {},
   "source": [
    "# HP Inc. (HPQ)\n",
    "Es una empresa tecnológica que se dedica al suministro de computadoras personales y otros dispositivos de acceso, productos de imágenes e impresión, y tecnologías, soluciones y servicios relacionados. \n",
    "- El precio de la acción de HPQ es de 484.49 pesos mexicanos , lo que está por debajo de la estimación de valor justo de 548.95 pesos mexicanos\n",
    "- Su P/E Ratio es de 8.2, esta relación es inferior a la media de empresas similares y a la media de la industria Global Tech, lo que indica que HPQ podría estar infavalorada en comparación con sus pares.\n",
    "- HP Inc. se considera una empresa de crecimiento debido a que ha aumentado sus ganancias en los últimos años."
   ]
  },
  {
   "cell_type": "markdown",
   "id": "3407b508",
   "metadata": {},
   "source": [
    "# International Business Machines Corp. (IBM)\n",
    "International Business Machines Corp. es una empresa de tecnología de la información, que se dedica a la provisión de soluciones integradas que aprovechan la tecnología de la información y el conocimiento de los procesos comerciales. Opera a través de los siguientes segmentos: Software, Consultoría, Infraestructura, Financiamiento y Otros\n",
    "\n",
    "- El precio de la acción de IBM es de 126.55 dólares estadounidenses, lo que está por debajo de la estimación de valor justo de 140.00 dólares estadounidenses.\n",
    "- Su P/E Ratio actual es de 18.8, es superior a la media de empresas similares y a la media de la industria Tecnología de la Información, sigue siendo relativamente bajo en comparación con otras empresas tecnológicas de crecimiento. Esto puede indicar que IBM podría estar infravalorada en comparación con sus pares. \n",
    "- IBM se considera una empresa de valor debido a su bajo precio en relación con sus fundamentos financieros y su historial de dividendos que han sido consistentes. Sin embargo, la empresa también está invirtiendo en áreas de crecimiento como la nube, la inteligencia artificial y la seguridad cibernética.\n"
   ]
  },
  {
   "cell_type": "markdown",
   "id": "fa355f2c",
   "metadata": {},
   "source": [
    "# The Coca-Cola Company (KO)\n",
    "The Coca-Cola Co. se dedica a la fabricación y comercialización de bebidas no alcohólicas. \n",
    "\n",
    "-  El precio actual de la acción de Coca-Cola es de 62.17 dólares estadounidenses, lo que está por debajo de la estimación de valor justo de 63.50 dólares estadounidenses. \n",
    "- Su P/E Ratio es de 25 , lo que significa que los inversionistas están dispuestos a pagar 25 dólares estadounidenses por cada dólar de beneficio generado por la empresa. Esta relación es superior a la media de empresas similares y a la media de la industria Bebidas, lo que indica que KO podría estar sobrevalorada en comparación con sus pares.\n",
    "- The Coca-Cola Company se considera una empresa de valor debido a su fuerte marca y su presencia global. La empresa ha estado generando ingresos estables y beneficios consistentes, y ha aumentado su dividendo durante 59 años consecutivos."
   ]
  },
  {
   "cell_type": "markdown",
   "id": "e1445e90",
   "metadata": {},
   "source": [
    "# Best Buy Co., Inc. (BBY-US)\n",
    "Best Buy Co., Inc. se dedica a la provisión de productos y servicios de tecnología de consumo. Opera a través de dos segmentos de negocio: Doméstico e Internacional. \n",
    "\n",
    "- El precio actual de la acción de Best Buy es de 74.47 dólares estadounidenses.\n",
    "- Su P/E Ratio es de 13.1, esta relación es inferior a la media de empresas similares y a la media de la industria de tecnología, lo que indica que Best Buy podría estar infravalorada en comparación con sus pares.\n",
    "- Best Buy se considera una empresa de crecimiento debido a su fuerte marca y su presencia global. La empresa ha estado generando ingresos estables y beneficios consistentes, y ha aumentado su dividendo durante 16 años consecutivos."
   ]
  },
  {
   "cell_type": "markdown",
   "id": "45e0f149",
   "metadata": {},
   "source": [
    "# Caterpillar Inc. (CAT)\n",
    "Caterpillar, Inc. se dedica al negocio de la fabricación de equipos de construcción y minería, motores diésel y de gas natural para uso fuera de carretera, turbinas de gas industriales y locomotoras diésel-eléctricas. Opera a través de los siguientes segmentos: Industrias de la Construcción, Industrias de Recursos, Energía y Transporte, Productos Financieros y Todos los Demás.\n",
    "\n",
    "- El precio actual de la acción de Caterpillar es de 336.75 dólares estadounidenses.\n",
    "- Su P/E Ratio es de 15.2, lo que significa que los inversionistas están dispuestos a pagar 15.2 dólares estadounidenses por cada dólar de beneficio generado por la empresa. Esta relación es inferior a la media de empresas similares y a la media de la industria, lo que indica que Caterpillar podría estar infravalorada en comparación con sus pares.\n",
    "- Caterpillar se considera una empresa de valor debido a su fuerte marca y su presencia global. La empresa ha estado generando ingresos estables y beneficios consistentes, y ha aumentado su dividendo durante 26 años consecutivos."
   ]
  },
  {
   "cell_type": "markdown",
   "id": "e6ceca7f",
   "metadata": {},
   "source": [
    "# Amazon.com, Inc. (AMZ-DE)\n",
    "Amazon.com, Inc. es una empresa multinacional de tecnología que se dedica a proporcionar servicios de compras minoristas en línea. Opera a través de los siguientes segmentos: América del Norte, Internacional y Amazon Web Services (AWS). \n",
    "\n",
    "- El precio actual de la acción de Amazon es de 186.21 dólares estadounidenses.\n",
    "- Su P/E Ratio es de 52.6, lo que es superior a la media de empresas similares y a la media de la industria, lo que indica que Amazon podría estar sobrevalorada en comparación con sus pares.\n",
    "- Amazon se considera una acción de crecimiento debido a su rápido crecimiento y a su innovación en varias industrias. La empresa ha aumentado consistentemente sus ingresos y beneficios en los últimos años, y tiene una fuerte marca y presencia global."
   ]
  },
  {
   "cell_type": "markdown",
   "id": "5354aa5b",
   "metadata": {},
   "source": [
    "# MGM Resorts International (MGM-US)\n",
    "MGM Resorts International es un holding que se dedica a la propiedad y operación de resorts de casino. Los resorts de casino de la empresa ofrecen juegos, hoteles, convenciones, restaurantes, entretenimiento, tiendas minoristas y otros servicios del resort. Opera a través de los siguientes segmentos de negocio: Las Vegas Strip Resorts, Regional Operations y MGM China. \n",
    "\n",
    "- El precio de una acción de MGM es de 41.04 dólares estadounidenses. \n",
    "- El P/E Ratio actual de MGM Resorts International es de aproximadamente 15.66, lo que es ligeramente superior a la media de empresas similares y a la media de la industria de Hospitalidad y Entretenimiento. Esto puede indicar que MGM Resorts International está ligeramente sobrevalorada en comparación con sus pares. \n",
    "- MGM se considera una empresa de valor debido a su bajo precio en relación con sus fundamentos financieros y su historial de dividendos que han sido consistentes. Sin embargo, la empresa también está invirtiendo en áreas de crecimiento como la apuesta deportiva y el juego en línea."
   ]
  },
  {
   "cell_type": "markdown",
   "id": "ac6f6f1a",
   "metadata": {},
   "source": [
    "#   Visa Inc. Clase A (V)\n",
    "Visa, Inc. se dedica a la prestación de servicios de pago digital. También facilita el comercio global a través de la transferencia de valor e información entre una red global de consumidores, comerciantes, instituciones financieras, empresas, socios estratégicos y entidades gubernamentales. Ofrece tarjetas de débito, tarjetas de crédito, productos prepagos, soluciones de pago comercial y cajeros automáticos globales.\n",
    "\n",
    "- El precio actual de las acciones de Visa Inc. Clase A es de aproximadamente 268.49 dólares estadounidenses, y su capitalización de mercado es de alrededor de 480.5 mil millones de dólares estadounidenses. \n",
    "- El P/E Ratio de Visa Inc.es de 30.5, lo que es superior a la media de empresas similares y a la media de la industria de Servicios Financieros. Esto puede indicar que Visa Inc. Clase A podría estar sobrevalorada en comparación con sus pares. Sin embargo, la empresa sigue siendo una empresa de crecimiento con un historial de crecimiento de ingresos y ganancias consistentes, también porque está invirtiendo en áreas de crecimientoase como la tecnología (de pagos móviles y la ciberseguridad)."
   ]
  },
  {
   "cell_type": "markdown",
   "id": "ffa54b7f",
   "metadata": {},
   "source": [
    "# Johnson & Johnson (JNJ)\n",
    "Johnson & Johnson es un holding que se dedica a la investigación, desarrollo, fabricación y venta de productos en el campo de la salud. Opera a través de los segmentos de Medicina Innovadora y Tecnología Médica. El segmento de Medicina Innovadora se centra en la inmunología, las enfermedades infecciosas, la neurociencia, la oncología, el metabolismo cardiovascular y la hipertensión pulmonar.\n",
    "\n",
    "- El precio de una acción de JNJ es de 149.27 dólares.\n",
    "\n",
    "- El P/E Ratio actual de Johnson & Johnson es de aproximadamente 21.5, lo que es ligeramente superior a la media de empresas similares y a la media de la industria de la salud.\n",
    "\n",
    "- Johnson & Johnson se considera una empresa de valor debido a su bajo precio en relación con sus fundamentos financieros y su historial de dividendos que han sido consistentes. Sin embargo, la empresa también está invirtiendo en áreas de crecimiento como la investigación y el desarrollo de nuevos productos y tecnologías."
   ]
  },
  {
   "cell_type": "markdown",
   "id": "1d037102",
   "metadata": {},
   "source": [
    "# Exxon Mobil Corporation (XOM) \n",
    "Exxon Mobil Corp. se dedica a la exploración, desarrollo y distribución de petróleo, gas y productos derivados del petróleo. Opera a través de los siguientes segmentos: Upstream, Downstream y Chemical. \n",
    "\n",
    "- El precio de una acción de Exxon Mobil es de 116 dólares.\n",
    "- El actual ratio P/E de Exxon Mobil Corporation es aproximadamente 14.23, lo que es ligeramente inferior a la media de la industria. Esto puede indicar que Exxon Mobil Corporation está infravalorada en comparación con sus pares.\n",
    "- Exxon Mobil se considera una acción de valor debido a su bajo precio en relación con sus fundamentos financieros y su historial de dividendos consistentes. Sin embargo, la empresa también está invirtiendo en áreas de crecimiento como la investigación y el desarrollo de nuevas tecnologías."
   ]
  },
  {
   "cell_type": "markdown",
   "id": "461fb16f",
   "metadata": {},
   "source": [
    "# \tAlphabet Inc. (GOOGL) - Communication Services\n",
    "Alphabet, Inc. es un holding que se dedica al software, la atención médica, el transporte y otras tecnologías. Opera a través de los siguientes segmentos: Servicios de Google, Google Cloud y Otras apuestas. El segmento de Servicios de Google incluye productos y servicios como anuncios, Android, Chrome, dispositivos, Google Maps, Google Play, la Búsqueda y YouTube.\n",
    "\n",
    "- El precio actual de la acción de Alphabet es de 169.19 dólares por acción. \n",
    "- Su P/E Ratio es de 25.94, lo que es ligeramente superior a la media de la industria, lo que indica que Alphabet puede estar ligeramente sobrevalorada en comparación con sus pares. \n",
    "- Alphabet se considera una acción de crecimiento debido a su rápido crecimiento y innovación en varias industrias. La empresa ha aumentado consistentemente sus ingresos y beneficios en los últimos años, y tiene una fuerte marca y presencia global."
   ]
  },
  {
   "cell_type": "markdown",
   "id": "d4f0aa9c",
   "metadata": {},
   "source": [
    "# CME Group\n",
    "CME Group, Inc. opera un mercado de derivados, que ofrece una gama de productos de futuros y opciones para la gestión de riesgos. Sus bolsas ofrecen una gama de productos de referencia global en todas las principales clases de activos basados en tasas de interés, índices bursátiles, divisas (FX), energía, materias primas agrícolas y metales. Ofrece futuros y opciones sobre el comercio de futuros en todas las clases de activos a través de la plataforma CME Globex, el comercio de renta fija a través de BrokerTec y el comercio de divisas en la plataforma EBS.\n",
    "\n",
    "- El precio actual de las acciones de CME Group es de 208.00 dólares estadounidenses. \n",
    "- Su P/E Ratio es de 23.69, lo que es ligeramente superior a la media de la industria, lo que indica que CME Group podría estar ligeramente sobrevalorada en comparación con sus pares. \n",
    "- CME Group se considera una acción de crecimiento debido a su rápido crecimiento y a su innovación en varias industrias. La empresa ha aumentado consistentemente sus ingresos y beneficios en los últimos años, y tiene una fuerte marca y presencia global. "
   ]
  },
  {
   "cell_type": "markdown",
   "id": "6131f911",
   "metadata": {},
   "source": [
    "# JPMorgan Chase & Co\n",
    "JPMorgan Chase & Co. es un holding financiero que se dedica a la prestación de servicios financieros y de banca de inversión. La firma ofrece una gama de productos y servicios de banca de inversión en todos los mercados de capitales, incluido el asesoramiento sobre estrategia y estructura corporativa, la obtención de capital en los mercados de valores y deuda, la gestión de riesgos, la creación de mercado en valores en efectivo e instrumentos derivados, y el corretaje y la investigación. \n",
    "\n",
    "- El precio actual de las acciones de JPMorgan Chase & Co es de 192 dólares estadounidenses. \n",
    "- Su P/E Ratio es de 11.59, lo que es inferior a la media de la industria, lo que indica que JPMorgan Chase & Co podría estar infravalorada en comparación con sus pares. \n",
    "- JPMorgan Chase & Co se considera una acción de valor debido a su bajo P/E Ratio y a su sólida posición financiera. La empresa tiene una fuerte presencia en el mercado de servicios financieros y ha demostrado ser resistente en diferentes ciclos económicos."
   ]
  },
  {
   "cell_type": "markdown",
   "id": "dc040485",
   "metadata": {},
   "source": [
    "# Costco Wholesale Corp.  \n",
    "Se dedica a la operación de almacenes de membresía a través de subsidiarias de propiedad absoluta. Opera a través de los siguientes segmentos geográficos: Estados Unidos, Canadá y otras operaciones internacionales. \n",
    "\n",
    "- El precio actual de las acciones de Costco es de alrededor de 756.45 dólares estadounidenses. \n",
    "-  Su P/E Ratio actual es de 49.60, lo que es significativamente superior a la media de empresas similares y a la media de la industria.\n",
    "- Costco se considera una acción de crecimiento debido a su rápido crecimiento y a su innovación en la industria de los almacenes a granel. La empresa ha aumentado consistentemente sus ingresos y beneficios en los últimos años y tiene una fuerte marca y presencia global ."
   ]
  },
  {
   "cell_type": "markdown",
   "id": "dcc5f408",
   "metadata": {},
   "source": [
    "# NVIDIA Corp\n",
    "Se dedica al diseño y fabricación de procesadores de gráficos por computadora, chipsets y software multimedia relacionado. Opera a través de los siguientes segmentos: Unidad de Procesamiento de Gráficos (GPU) y Computación y Redes. El segmento de gráficos incluye GPU GeForce para juegos y PC, el servicio de transmisión de juegos GeForce NOW y la infraestructura relacionada, GPU Quadro y NVIDIA RTX para gráficos de estaciones de trabajo empresariales, GPU virtual o vGPU, software para computación visual y virtual basada en la nube, plataformas automotrices para sistemas de infoentretenimiento y software Omniverse Enterprise para crear y operar aplicaciones de metaverso e Internet 3D. \n",
    "\n",
    "- El precio actual de las acciones de NVIDIA es de 921.40 dólares estadounidenses.\n",
    "\n",
    "- Su P/E Ratio actual es de 77.43, lo que es significativamente superior a la media de empresas similares y a la media de la industria.\n",
    "\n",
    "- A pesar del alto P/E Ratio, NVIDIA se considera una acción de crecimiento debido a su rápido crecimiento y a su innovación en la industria de las GPUs y el procesamiento de datos. La empresa ha aumentado consistentemente sus ingresos y beneficios en los últimos años y tiene una fuerte marca y presencia global. NVIDIA es líder en el mercado de GPUs y sus productos se utilizan en una amplia gama de aplicaciones, incluyendo juegos, inteligencia artificial, computación en la nube y centros de datos.\n"
   ]
  }
 ],
 "metadata": {
  "kernelspec": {
   "display_name": "Python 3 (ipykernel)",
   "language": "python",
   "name": "python3"
  },
  "language_info": {
   "codemirror_mode": {
    "name": "ipython",
    "version": 3
   },
   "file_extension": ".py",
   "mimetype": "text/x-python",
   "name": "python",
   "nbconvert_exporter": "python",
   "pygments_lexer": "ipython3",
   "version": "3.11.5"
  }
 },
 "nbformat": 4,
 "nbformat_minor": 5
}
